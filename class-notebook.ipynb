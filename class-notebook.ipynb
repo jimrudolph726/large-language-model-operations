{
 "cells": [
  {
   "cell_type": "code",
   "execution_count": 1,
   "metadata": {},
   "outputs": [
    {
     "name": "stdout",
     "output_type": "stream",
     "text": [
      "hi\n"
     ]
    }
   ],
   "source": [
    "import openai\n",
    "import os\n",
    "\n",
    "os.environ[\"OPENAI_API_KEY\"] = \"sk-proj-Fs2QEYX4U4G8rBTTeujhT3BlbkFJFFlX5o0egM0DWVVLKPSV\"\n",
    "openai.api_key = os.getenv(\"OPENAI_API_KEY\")\n",
    "\n",
    "print(\"hi\")"
   ]
  },
  {
   "cell_type": "code",
   "execution_count": 2,
   "metadata": {},
   "outputs": [],
   "source": [
    "from openai import OpenAI\n",
    "client = OpenAI()"
   ]
  },
  {
   "cell_type": "code",
   "execution_count": 3,
   "metadata": {},
   "outputs": [],
   "source": [
    "def create_shopping_list(recipe):\n",
    "    prompt = f\"create a shopping list based on the following recipe and foods that go well with it and cooking instructions: {recipe}\"\n",
    "    \n",
    "    return prompt"
   ]
  },
  {
   "cell_type": "code",
   "execution_count": 4,
   "metadata": {},
   "outputs": [
    {
     "name": "stdout",
     "output_type": "stream",
     "text": [
      "create a shopping list based on the following recipe and foods that go well with it and cooking instructions: Bluefin tuna sushi\n"
     ]
    }
   ],
   "source": [
    "# recipe test\n",
    "recipe = create_shopping_list(\"Bluefin tuna sushi\")\n",
    "print(recipe)"
   ]
  },
  {
   "cell_type": "code",
   "execution_count": 5,
   "metadata": {},
   "outputs": [
    {
     "name": "stdout",
     "output_type": "stream",
     "text": [
      "Shopping List:\n",
      "1. Bluefin tuna\n",
      "2. Sushi rice\n",
      "3. Nori seaweed sheets\n",
      "4. Rice vinegar\n",
      "5. Sugar\n",
      "6. Salt\n",
      "7. Soy sauce\n",
      "8. Wasabi\n",
      "9. Pickled ginger\n",
      "10. Cucumber\n",
      "11. Avocado\n",
      "\n",
      "Additional Foods that go well with Bluefin Tuna Sushi:\n",
      "1. Sesame seeds\n",
      "2. Scallions\n",
      "3. Tobiko (flying fish roe)\n",
      "4. Ponzu sauce\n",
      "5. Spicy mayo\n",
      "6. Sriracha\n",
      "\n",
      "Cooking Instructions:\n",
      "1. Cook sushi rice according to package instructions and season with rice vinegar, sugar, and salt.\n",
      "2. Slice bluefin tuna into thin pieces.\n",
      "3. Cut cucumber and avocado into thin strips.\n",
      "4. Place a nori seaweed sheet on a bamboo sushi mat.\n",
      "5. Spread a thin layer of sushi rice on the nori sheet, leaving a small border at the top.\n",
      "6. Add desired fillings such as tuna, cucumber, and avocado in the center of the rice.\n",
      "7. Roll the sushi tightly using the bamboo mat.\n",
      "8. Slice the sushi roll into bite-sized pieces.\n",
      "9. Serve with soy sauce, wasabi, and pickled ginger on the side.\n",
      "10. Optional: Garnish with sesame seeds, scallions, tobiko, and drizzle with ponzu sauce, spicy mayo, or sriracha.\n"
     ]
    }
   ],
   "source": [
    "# Reaching out to openai for the answer\n",
    "\n",
    "response = client.chat.completions.create(\n",
    "    model = \"gpt-3.5-turbo\",\n",
    "    messages = [\n",
    "                {\n",
    "                    \"role\":\"system\",\n",
    "                    \"content\":recipe,\n",
    "                    \n",
    "                },],\n",
    "    temperature = 0.7,\n",
    "    top_p = 1,\n",
    ")\n",
    "print(response.choices[0].message.content)"
   ]
  },
  {
   "cell_type": "code",
   "execution_count": 6,
   "metadata": {},
   "outputs": [
    {
     "name": "stdout",
     "output_type": "stream",
     "text": [
      "['Bluefin tuna', 'Sushi rice', 'Nori seaweed sheets', 'Rice vinegar', 'Sugar', 'Salt', 'Soy sauce', 'Wasabi', 'Pickled ginger', 'Cucumber', 'Avocado', 'Sesame seeds', 'Scallions', 'Tobiko (flying fish roe)', 'Ponzu sauce', 'Spicy mayo', 'Sriracha', 'Cook sushi rice according to package instructions and season with rice vinegar, sugar, and salt.', 'Slice bluefin tuna into thin pieces.', 'Cut cucumber and avocado into thin strips.', 'Place a nori seaweed sheet on a bamboo sushi mat.', 'Spread a thin layer of sushi rice on the nori sheet, leaving a small border at the top.', 'Add desired fillings such as tuna, cucumber, and avocado in the center of the rice.', 'Roll the sushi tightly using the bamboo mat.', 'Slice the sushi roll into bite-sized pieces.', 'Serve with soy sauce, wasabi, and pickled ginger on the side.', 'Optional: Garnish with sesame seeds, scallions, tobiko, and drizzle with ponzu sauce, spicy mayo, or sriracha.']\n"
     ]
    }
   ],
   "source": [
    "import re\n",
    "\n",
    "text = response.choices[0].message.content\n",
    "pattern = re.compile(r'\\d+\\. (.+)')\n",
    "matches = pattern.findall(text)\n",
    "\n",
    "shopping_list = []\n",
    "\n",
    "for match in matches:\n",
    "    shopping_list.append(match)\n",
    "    \n",
    "print(shopping_list)"
   ]
  },
  {
   "cell_type": "code",
   "execution_count": 7,
   "metadata": {},
   "outputs": [
    {
     "name": "stdout",
     "output_type": "stream",
     "text": [
      "https://oaidalleapiprodscus.blob.core.windows.net/private/org-vKgpXsH9oLuBJRfzRJiIXO2J/user-auVE0jcTQn3vdT32TxK2ujLt/img-FDID3QgIf1NewGWbWyOn11oy.png?st=2024-07-16T21%3A13%3A32Z&se=2024-07-16T23%3A13%3A32Z&sp=r&sv=2023-11-03&sr=b&rscd=inline&rsct=image/png&skoid=6aaadede-4fb3-4698-a8f6-684d7786b067&sktid=a48cca56-e6da-484e-a814-9c849652bcb3&skt=2024-07-16T21%3A40%3A55Z&ske=2024-07-17T21%3A40%3A55Z&sks=b&skv=2023-11-03&sig=co90kJz9Mbv8ZAgeeG/9G0mSuWXz14IrZ%2BoUWTCl7fQ%3D\n",
      "testdowntolocal\n"
     ]
    }
   ],
   "source": [
    "# Generating images using DALL-E\n",
    "\n",
    "\n",
    "full_prompt = \", \".join(shopping_list)\n",
    "\n",
    "\n",
    "image_response = client.images.generate(\n",
    "    model=\"dall-e-3\",\n",
    "    prompt=full_prompt,\n",
    "    size=\"1024x1024\",\n",
    "    quality=\"standard\",\n",
    "    n=1,   \n",
    ")\n",
    "\n",
    "\n",
    "\n",
    "image_url = image_response.data[0].url\n",
    "print(image_url)\n",
    "print('testuptocodespace')\n"
   ]
  },
  {
   "cell_type": "code",
   "execution_count": null,
   "metadata": {},
   "outputs": [],
   "source": []
  }
 ],
 "metadata": {
  "kernelspec": {
   "display_name": "Python 3",
   "language": "python",
   "name": "python3"
  },
  "language_info": {
   "codemirror_mode": {
    "name": "ipython",
    "version": 3
   },
   "file_extension": ".py",
   "mimetype": "text/x-python",
   "name": "python",
   "nbconvert_exporter": "python",
   "pygments_lexer": "ipython3",
   "version": "3.10.13"
  }
 },
 "nbformat": 4,
 "nbformat_minor": 2
}
