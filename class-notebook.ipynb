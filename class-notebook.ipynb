{
 "cells": [
  {
   "cell_type": "code",
   "execution_count": 1,
   "metadata": {},
   "outputs": [
    {
     "name": "stdout",
     "output_type": "stream",
     "text": [
      "hi\n"
     ]
    }
   ],
   "source": [
    "import openai\n",
    "import os\n",
    "\n",
    "os.environ[\"OPENAI_API_KEY\"] = \"sk-proj-Fs2QEYX4U4G8rBTTeujhT3BlbkFJFFlX5o0egM0DWVVLKPSV\"\n",
    "openai.api_key = os.getenv(\"OPENAI_API_KEY\")\n",
    "\n",
    "print(\"hi\")"
   ]
  },
  {
   "cell_type": "code",
   "execution_count": 2,
   "metadata": {},
   "outputs": [],
   "source": [
    "from openai import OpenAI\n",
    "client = OpenAI()"
   ]
  },
  {
   "cell_type": "code",
   "execution_count": 3,
   "metadata": {},
   "outputs": [],
   "source": [
    "def create_shopping_list(recipe):\n",
    "    prompt = f\"create a shopping list based on the following recipe and foods that go well with it and cooking instructions: {recipe}\"\n",
    "    \n",
    "    return prompt"
   ]
  },
  {
   "cell_type": "code",
   "execution_count": 4,
   "metadata": {},
   "outputs": [
    {
     "name": "stdout",
     "output_type": "stream",
     "text": [
      "create a shopping list based on the following recipe and foods that go well with it and cooking instructions: meat lovers sub sandwich\n"
     ]
    }
   ],
   "source": [
    "# recipe test\n",
    "recipe = create_shopping_list(\"Risotto ai Frutti di Mare\")\n",
    "print(recipe)"
   ]
  },
  {
   "cell_type": "code",
   "execution_count": 5,
   "metadata": {},
   "outputs": [
    {
     "name": "stdout",
     "output_type": "stream",
     "text": [
      "Shopping List:\n",
      "- Italian sub rolls\n",
      "- Sliced pepperoni\n",
      "- Sliced salami\n",
      "- Sliced ham\n",
      "- Sliced turkey\n",
      "- Provolone cheese\n",
      "- Lettuce\n",
      "- Tomato\n",
      "- Red onion\n",
      "- Banana peppers\n",
      "- Italian dressing\n",
      "- Mayonnaise\n",
      "- Salt and pepper\n",
      "\n",
      "Foods that go well with the meat lovers sub sandwich:\n",
      "- Potato chips\n",
      "- Pickles\n",
      "- Olives\n",
      "- Roasted red peppers\n",
      "- Avocado\n",
      "- Mustard\n",
      "- Hot peppers\n",
      "- Prosciutto\n",
      "\n",
      "Cooking Instructions:\n",
      "1. Preheat your oven to 350°F.\n",
      "2. Slice the Italian sub rolls in half lengthwise and place them on a baking sheet.\n",
      "3. Layer the sliced pepperoni, salami, ham, turkey, and provolone cheese on the bottom halves of the sub rolls.\n",
      "4. Place the filled sub rolls in the oven and bake for about 5-10 minutes, or until the cheese is melted and the meats are warmed through.\n",
      "5. While the subs are baking, prepare your toppings by slicing the lettuce, tomato, and red onion, and draining the banana peppers.\n",
      "6. Once the subs are done baking, remove them from the oven and top with the lettuce, tomato, red onion, and banana peppers.\n",
      "7. Drizzle with Italian dressing and mayonnaise, and season with salt and pepper.\n",
      "8. Place the top halves of the sub rolls on the sandwiches, slice into individual portions, and serve with your favorite sides. Enjoy!\n"
     ]
    }
   ],
   "source": [
    "# Reaching out to openai for the answer\n",
    "\n",
    "response = client.chat.completions.create(\n",
    "    model = \"gpt-3.5-turbo\",\n",
    "    messages = [\n",
    "                {\n",
    "                    \"role\":\"system\",\n",
    "                    \"content\":recipe,\n",
    "                    \n",
    "                },],\n",
    "    temperature = 0.7,\n",
    "    top_p = 1,\n",
    ")\n",
    "print(response.choices[0].message.content)\n"
   ]
  },
  {
   "cell_type": "code",
   "execution_count": 6,
   "metadata": {},
   "outputs": [
    {
     "name": "stdout",
     "output_type": "stream",
     "text": [
      "['Preheat your oven to 350°F.', 'Slice the Italian sub rolls in half lengthwise and place them on a baking sheet.', 'Layer the sliced pepperoni, salami, ham, turkey, and provolone cheese on the bottom halves of the sub rolls.', 'Place the filled sub rolls in the oven and bake for about 5-10 minutes, or until the cheese is melted and the meats are warmed through.', 'While the subs are baking, prepare your toppings by slicing the lettuce, tomato, and red onion, and draining the banana peppers.', 'Once the subs are done baking, remove them from the oven and top with the lettuce, tomato, red onion, and banana peppers.', 'Drizzle with Italian dressing and mayonnaise, and season with salt and pepper.', 'Place the top halves of the sub rolls on the sandwiches, slice into individual portions, and serve with your favorite sides. Enjoy!']\n"
     ]
    }
   ],
   "source": [
    "import re\n",
    "\n",
    "text = response.choices[0].message.content\n",
    "pattern = re.compile(r'\\d+\\. (.+)')\n",
    "matches = pattern.findall(text)\n",
    "\n",
    "shopping_list = []\n",
    "\n",
    "for match in matches:\n",
    "    shopping_list.append(match)\n",
    "    \n",
    "print(shopping_list)"
   ]
  },
  {
   "cell_type": "code",
   "execution_count": 7,
   "metadata": {},
   "outputs": [
    {
     "name": "stdout",
     "output_type": "stream",
     "text": [
      "https://oaidalleapiprodscus.blob.core.windows.net/private/org-vKgpXsH9oLuBJRfzRJiIXO2J/user-auVE0jcTQn3vdT32TxK2ujLt/img-RSvjUzqNWMjcsbqThQ56d22S.png?st=2024-07-18T21%3A07%3A07Z&se=2024-07-18T23%3A07%3A07Z&sp=r&sv=2023-11-03&sr=b&rscd=inline&rsct=image/png&skoid=6aaadede-4fb3-4698-a8f6-684d7786b067&sktid=a48cca56-e6da-484e-a814-9c849652bcb3&skt=2024-07-18T12%3A54%3A14Z&ske=2024-07-19T12%3A54%3A14Z&sks=b&skv=2023-11-03&sig=muuDDwSVReNRumb5/EhV4p/PY8MkMJ1JQwl3lHPSyC0%3D\n",
      "hgo\n"
     ]
    }
   ],
   "source": [
    "# Generating images using DALL-E\n",
    "\n",
    "\n",
    "full_prompt = \", \".join(shopping_list)\n",
    "\n",
    "\n",
    "image_response = client.images.generate(\n",
    "    model=\"dall-e-3\",\n",
    "    prompt=full_prompt,\n",
    "    size=\"1024x1024\",\n",
    "    quality=\"standard\",\n",
    "    n=1,   \n",
    ")\n",
    "\n",
    "\n",
    "\n",
    "image_url = image_response.data[0].url\n",
    "print(image_url)\n",
    "print('hgo')\n"
   ]
  },
  {
   "cell_type": "code",
   "execution_count": null,
   "metadata": {},
   "outputs": [],
   "source": []
  }
 ],
 "metadata": {
  "kernelspec": {
   "display_name": "Python 3",
   "language": "python",
   "name": "python3"
  },
  "language_info": {
   "codemirror_mode": {
    "name": "ipython",
    "version": 3
   },
   "file_extension": ".py",
   "mimetype": "text/x-python",
   "name": "python",
   "nbconvert_exporter": "python",
   "pygments_lexer": "ipython3",
   "version": "3.12.4"
  }
 },
 "nbformat": 4,
 "nbformat_minor": 2
}
