{
 "cells": [
  {
   "cell_type": "code",
   "execution_count": 6,
   "metadata": {},
   "outputs": [
    {
     "name": "stdout",
     "output_type": "stream",
     "text": [
      "hi\n"
     ]
    }
   ],
   "source": [
    "import openai\n",
    "import os\n",
    "\n",
    "os.environ[\"OPENAI_API_KEY\"] = \"sk-proj-Fs2QEYX4U4G8rBTTeujhT3BlbkFJFFlX5o0egM0DWVVLKPSV\"\n",
    "openai.api_key = os.getenv(\"OPENAI_API_KEY\")\n",
    "\n",
    "print(\"hi\")"
   ]
  },
  {
   "cell_type": "code",
   "execution_count": 8,
   "metadata": {},
   "outputs": [],
   "source": [
    "from openai import OpenAI\n",
    "client = OpenAI()"
   ]
  },
  {
   "cell_type": "code",
   "execution_count": 9,
   "metadata": {},
   "outputs": [],
   "source": [
    "def create_shopping_list(recipe):\n",
    "    prompt = f\"create a shopping list based on the following recipe and foods that go well with it and cooking instructions: {recipe}\"\n",
    "    \n",
    "    return prompt"
   ]
  },
  {
   "cell_type": "code",
   "execution_count": 11,
   "metadata": {},
   "outputs": [
    {
     "name": "stdout",
     "output_type": "stream",
     "text": [
      "create a shopping list based on the following recipe and foods that go well with it and cooking instructions: Chipotle chicken and rice bowl\n"
     ]
    }
   ],
   "source": [
    "# recipe test\n",
    "recipe = create_shopping_list(\"Chipotle chicken and rice bowl\")\n",
    "print(recipe)"
   ]
  },
  {
   "cell_type": "code",
   "execution_count": 17,
   "metadata": {},
   "outputs": [
    {
     "name": "stdout",
     "output_type": "stream",
     "text": [
      "Shopping List:\n",
      "1. Chicken breast\n",
      "2. Chipotle peppers in adobo sauce\n",
      "3. Rice\n",
      "4. Black beans\n",
      "5. Corn\n",
      "6. Bell peppers\n",
      "7. Avocado\n",
      "8. Lime\n",
      "9. Cilantro\n",
      "10. Olive oil\n",
      "11. Salt\n",
      "12. Pepper\n",
      "\n",
      "Optional toppings:\n",
      "- Shredded cheese\n",
      "- Sour cream\n",
      "- Salsa\n",
      "\n",
      "Instructions:\n",
      "1. Start by marinating the chicken breast in a mixture of chopped chipotle peppers, adobo sauce, olive oil, salt, and pepper.\n",
      "2. Cook the rice according to package instructions.\n",
      "3. While the rice is cooking, grill or cook the marinated chicken until fully cooked.\n",
      "4. In a separate pan, heat up the black beans, corn, and sliced bell peppers.\n",
      "5. Once everything is cooked, assemble your bowl by layering the rice, grilled chicken, black beans, corn, and bell peppers.\n",
      "6. Top with sliced avocado, a squeeze of lime juice, and chopped cilantro.\n",
      "7. Add any optional toppings you desire, such as shredded cheese, sour cream, or salsa.\n",
      "8. Enjoy your delicious Chipotle chicken and rice bowl!\n"
     ]
    }
   ],
   "source": [
    "# Reaching out to openai for the answer\n",
    "\n",
    "response = client.chat.completions.create(\n",
    "    model = \"gpt-3.5-turbo\",\n",
    "    messages = [\n",
    "                {\n",
    "                    \"role\":\"system\",\n",
    "                    \"content\":recipe,\n",
    "                    \n",
    "                },],\n",
    "    temperature = 0.7,\n",
    "    top_p = 1,\n",
    ")\n",
    "print(response.choices[0].message.content)"
   ]
  },
  {
   "cell_type": "code",
   "execution_count": null,
   "metadata": {},
   "outputs": [],
   "source": [
    "codespace"
   ]
  }
 ],
 "metadata": {
  "kernelspec": {
   "display_name": "Python 3",
   "language": "python",
   "name": "python3"
  },
  "language_info": {
   "codemirror_mode": {
    "name": "ipython",
    "version": 3
   },
   "file_extension": ".py",
   "mimetype": "text/x-python",
   "name": "python",
   "nbconvert_exporter": "python",
   "pygments_lexer": "ipython3",
   "version": "3.10.13"
  }
 },
 "nbformat": 4,
 "nbformat_minor": 2
}
