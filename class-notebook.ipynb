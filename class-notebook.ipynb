{
 "cells": [
  {
   "cell_type": "code",
   "execution_count": 1,
   "metadata": {},
   "outputs": [
    {
     "name": "stdout",
     "output_type": "stream",
     "text": [
      "hi\n"
     ]
    }
   ],
   "source": [
    "import openai\n",
    "import os\n",
    "\n",
    "os.environ[\"OPENAI_API_KEY\"] = \"sk-proj-Fs2QEYX4U4G8rBTTeujhT3BlbkFJFFlX5o0egM0DWVVLKPSV\"\n",
    "openai.api_key = os.getenv(\"OPENAI_API_KEY\")\n",
    "\n",
    "print(\"hi\")"
   ]
  },
  {
   "cell_type": "code",
   "execution_count": 2,
   "metadata": {},
   "outputs": [],
   "source": [
    "from openai import OpenAI\n",
    "client = OpenAI()"
   ]
  },
  {
   "cell_type": "code",
   "execution_count": 3,
   "metadata": {},
   "outputs": [],
   "source": [
    "def create_shopping_list(recipe):\n",
    "    prompt = f\"create a shopping list based on the following recipe and foods that go well with it and cooking instructions: {recipe}\"\n",
    "    \n",
    "    return prompt"
   ]
  },
  {
   "cell_type": "code",
   "execution_count": 4,
   "metadata": {},
   "outputs": [
    {
     "name": "stdout",
     "output_type": "stream",
     "text": [
      "create a shopping list based on the following recipe and foods that go well with it and cooking instructions: Chipotle chicken and rice bowl\n"
     ]
    }
   ],
   "source": [
    "# recipe test\n",
    "recipe = create_shopping_list(\"Chipotle chicken and rice bowl\")\n",
    "print(recipe)"
   ]
  },
  {
   "cell_type": "code",
   "execution_count": 5,
   "metadata": {},
   "outputs": [
    {
     "name": "stdout",
     "output_type": "stream",
     "text": [
      "Shopping List:\n",
      "- Boneless, skinless chicken breasts\n",
      "- Chipotle peppers in adobo sauce\n",
      "- Olive oil\n",
      "- Garlic\n",
      "- Cumin\n",
      "- Paprika\n",
      "- Salt\n",
      "- Black pepper\n",
      "- White rice\n",
      "- Black beans\n",
      "- Corn\n",
      "- Avocado\n",
      "- Cherry tomatoes\n",
      "- Red onion\n",
      "- Lime\n",
      "- Fresh cilantro\n",
      "\n",
      "Other ingredients that go well with the dish:\n",
      "- Shredded cheese\n",
      "- Sour cream\n",
      "- Salsa\n",
      "- Tortilla chips\n",
      "\n",
      "Cooking Instructions:\n",
      "1. In a blender or food processor, combine chipotle peppers in adobo sauce, olive oil, garlic, cumin, paprika, salt, and black pepper. Blend until smooth to make the marinade.\n",
      "2. Marinate the chicken breasts in the chipotle marinade for at least 30 minutes, or overnight for best flavor.\n",
      "3. Cook the white rice according to package instructions.\n",
      "4. Heat a grill or grill pan over medium-high heat. Grill the marinated chicken breasts for about 6-7 minutes per side, or until cooked through.\n",
      "5. In a separate pan, heat black beans and corn until warm.\n",
      "6. Assemble the rice bowls by layering cooked rice, black beans, corn, sliced avocado, cherry tomatoes, diced red onion, and sliced grilled chicken.\n",
      "7. Squeeze fresh lime juice over the bowls and top with chopped cilantro.\n",
      "8. Serve with additional toppings such as shredded cheese, sour cream, salsa, and tortilla chips on the side. Enjoy!\n"
     ]
    }
   ],
   "source": [
    "# Reaching out to openai for the answer\n",
    "\n",
    "response = client.chat.completions.create(\n",
    "    model = \"gpt-3.5-turbo\",\n",
    "    messages = [\n",
    "                {\n",
    "                    \"role\":\"system\",\n",
    "                    \"content\":recipe,\n",
    "                    \n",
    "                },],\n",
    "    temperature = 0.7,\n",
    "    top_p = 1,\n",
    ")\n",
    "print(response.choices[0].message.content)"
   ]
  },
  {
   "cell_type": "code",
   "execution_count": null,
   "metadata": {},
   "outputs": [],
   "source": [
    "test push"
   ]
  }
 ],
 "metadata": {
  "kernelspec": {
   "display_name": "Python 3",
   "language": "python",
   "name": "python3"
  },
  "language_info": {
   "codemirror_mode": {
    "name": "ipython",
    "version": 3
   },
   "file_extension": ".py",
   "mimetype": "text/x-python",
   "name": "python",
   "nbconvert_exporter": "python",
   "pygments_lexer": "ipython3",
   "version": "3.12.4"
  }
 },
 "nbformat": 4,
 "nbformat_minor": 2
}
