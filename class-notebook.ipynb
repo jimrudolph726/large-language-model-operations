{
 "cells": [
  {
   "cell_type": "code",
   "execution_count": 6,
   "metadata": {},
   "outputs": [
    {
     "name": "stdout",
     "output_type": "stream",
     "text": [
      "hi\n"
     ]
    }
   ],
   "source": [
    "import openai\n",
    "import os\n",
    "\n",
    "os.environ[\"OPENAI_API_KEY\"] = \"sk-proj-Fs2QEYX4U4G8rBTTeujhT3BlbkFJFFlX5o0egM0DWVVLKPSV\"\n",
    "openai.api_key = os.getenv(\"OPENAI_API_KEY\")\n",
    "\n",
    "print(\"hi\")"
   ]
  },
  {
   "cell_type": "code",
   "execution_count": 8,
   "metadata": {},
   "outputs": [],
   "source": [
    "from openai import OpenAI\n",
    "client = OpenAI()"
   ]
  },
  {
   "cell_type": "code",
   "execution_count": 9,
   "metadata": {},
   "outputs": [],
   "source": [
    "def create_shopping_list(recipe):\n",
    "    prompt = f\"create a shopping list based on the following recipe and foods that go well with it and cooking instructions: {recipe}\"\n",
    "    \n",
    "    return prompt"
   ]
  },
  {
   "cell_type": "code",
   "execution_count": 11,
   "metadata": {},
   "outputs": [
    {
     "name": "stdout",
     "output_type": "stream",
     "text": [
      "create a shopping list based on the following recipe and foods that go well with it and cooking instructions: Chipotle chicken and rice bowl\n"
     ]
    }
   ],
   "source": [
    "# recipe test\n",
    "recipe = create_shopping_list(\"Chipotle chicken and rice bowl\")\n",
    "print(recipe)"
   ]
  },
  {
   "cell_type": "code",
   "execution_count": 16,
   "metadata": {},
   "outputs": [
    {
     "name": "stdout",
     "output_type": "stream",
     "text": [
      "Shopping List:\n",
      "1. Chicken breasts\n",
      "2. Chipotle peppers in adobo sauce\n",
      "3. Lime\n",
      "4. Garlic\n",
      "5. Olive oil\n",
      "6. Salt\n",
      "7. Black pepper\n",
      "8. White rice\n",
      "9. Black beans\n",
      "10. Corn\n",
      "11. Avocado\n",
      "12. Cilantro\n",
      "13. Red onion\n",
      "14. Cherry tomatoes\n",
      "\n",
      "Optional additions:\n",
      "- Sour cream\n",
      "- Shredded cheese\n",
      "- Salsa\n",
      "\n",
      "Cooking Instructions:\n",
      "1. In a blender or food processor, blend chipotle peppers, lime juice, garlic, olive oil, salt, and pepper to make a marinade.\n",
      "2. Marinate the chicken breasts in the chipotle mixture for at least 30 minutes.\n",
      "3. Cook the chicken on a grill or in a skillet until fully cooked.\n",
      "4. Meanwhile, cook the white rice according to package instructions.\n",
      "5. In a separate pan, heat black beans and corn until warm.\n",
      "6. Dice avocado, chop cilantro, slice red onion, and halve cherry tomatoes for toppings.\n",
      "7. Assemble the bowls by layering rice, black beans, corn, sliced chicken, avocado, cilantro, red onion, and cherry tomatoes.\n",
      "8. Serve with optional toppings like sour cream, shredded cheese, and salsa. Enjoy your chipotle chicken and rice bowl!\n"
     ]
    }
   ],
   "source": [
    "# Reaching out to openai for the answer\n",
    "\n",
    "response = client.chat.completions.create(\n",
    "    model = \"gpt-3.5-turbo\",\n",
    "    messages = [\n",
    "                {\n",
    "                    \"role\":\"system\",\n",
    "                    \"content\":recipe,\n",
    "                    \n",
    "                },],\n",
    "    temperature = 0.7,\n",
    "    top_p = 1,\n",
    ")\n",
    "print(response.choices[0].message.content)"
   ]
  }
 ],
 "metadata": {
  "kernelspec": {
   "display_name": "Python 3",
   "language": "python",
   "name": "python3"
  },
  "language_info": {
   "codemirror_mode": {
    "name": "ipython",
    "version": 3
   },
   "file_extension": ".py",
   "mimetype": "text/x-python",
   "name": "python",
   "nbconvert_exporter": "python",
   "pygments_lexer": "ipython3",
   "version": "3.10.13"
  }
 },
 "nbformat": 4,
 "nbformat_minor": 2
}
