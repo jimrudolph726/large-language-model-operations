{
 "cells": [
  {
   "cell_type": "code",
   "execution_count": 1,
   "metadata": {},
   "outputs": [
    {
     "name": "stdout",
     "output_type": "stream",
     "text": [
      "hi\n"
     ]
    }
   ],
   "source": [
    "import openai\n",
    "import os\n",
    "\n",
    "os.environ[\"OPENAI_API_KEY\"] = \"sk-proj-Fs2QEYX4U4G8rBTTeujhT3BlbkFJFFlX5o0egM0DWVVLKPSV\"\n",
    "openai.api_key = os.getenv(\"OPENAI_API_KEY\")\n",
    "\n",
    "print(\"hi\")"
   ]
  },
  {
   "cell_type": "code",
   "execution_count": 2,
   "metadata": {},
   "outputs": [],
   "source": [
    "from openai import OpenAI\n",
    "client = OpenAI()"
   ]
  },
  {
   "cell_type": "code",
   "execution_count": 3,
   "metadata": {},
   "outputs": [],
   "source": [
    "def create_shopping_list(recipe):\n",
    "    prompt = f\"create a shopping list based on the following recipe and foods that go well with it and cooking instructions: {recipe}\"\n",
    "    \n",
    "    return prompt"
   ]
  },
  {
   "cell_type": "code",
   "execution_count": 4,
   "metadata": {},
   "outputs": [
    {
     "name": "stdout",
     "output_type": "stream",
     "text": [
      "create a shopping list based on the following recipe and foods that go well with it and cooking instructions: amaebi sushi\n"
     ]
    }
   ],
   "source": [
    "# recipe test\n",
    "recipe = create_shopping_list(\"amaebi sushi\")\n",
    "print(recipe)"
   ]
  },
  {
   "cell_type": "code",
   "execution_count": 5,
   "metadata": {},
   "outputs": [
    {
     "name": "stdout",
     "output_type": "stream",
     "text": [
      "Shopping List:\n",
      "1. Amaebi (sweet shrimp)\n",
      "2. Sushi rice\n",
      "3. Nori (seaweed sheets)\n",
      "4. Rice vinegar\n",
      "5. Sugar\n",
      "6. Salt\n",
      "7. Soy sauce\n",
      "8. Wasabi\n",
      "9. Pickled ginger\n",
      "10. Optional: sesame seeds, avocado\n",
      "\n",
      "Additional foods that go well with amaebi sushi:\n",
      "- Edamame\n",
      "- Miso soup\n",
      "- Seaweed salad\n",
      "- Tempura vegetables\n",
      "- Sashimi (tuna, salmon, yellowtail)\n",
      "- Green tea ice cream\n",
      "\n",
      "Cooking Instructions:\n",
      "1. Cook sushi rice according to package instructions and let it cool to room temperature.\n",
      "2. Peel and devein the amaebi, leaving the tail intact.\n",
      "3. Prepare a mixture of rice vinegar, sugar, and salt to season the sushi rice.\n",
      "4. Place a sheet of nori on a bamboo sushi mat, wet your hands, and spread a thin layer of sushi rice on the nori.\n",
      "5. Place a slice of amaebi on top of the rice and roll the sushi tightly using the bamboo mat.\n",
      "6. Cut the sushi roll into bite-sized pieces.\n",
      "7. Serve the amaebi sushi with soy sauce, wasabi, and pickled ginger on the side.\n",
      "8. Optional: sprinkle sesame seeds on top or add slices of avocado for extra flavor.\n",
      "\n",
      "Enjoy your homemade amaebi sushi!\n"
     ]
    }
   ],
   "source": [
    "# Reaching out to openai for the answer\n",
    "\n",
    "response = client.chat.completions.create(\n",
    "    model = \"gpt-3.5-turbo\",\n",
    "    messages = [\n",
    "                {\n",
    "                    \"role\":\"system\",\n",
    "                    \"content\":recipe,\n",
    "                    \n",
    "                },],\n",
    "    temperature = 0.7,\n",
    "    top_p = 1,\n",
    ")\n",
    "print(response.choices[0].message.content)\n"
   ]
  },
  {
   "cell_type": "code",
   "execution_count": 6,
   "metadata": {},
   "outputs": [
    {
     "name": "stdout",
     "output_type": "stream",
     "text": [
      "['Amaebi (sweet shrimp)', 'Sushi rice', 'Nori (seaweed sheets)', 'Rice vinegar', 'Sugar', 'Salt', 'Soy sauce', 'Wasabi', 'Pickled ginger', 'Optional: sesame seeds, avocado', 'Cook sushi rice according to package instructions and let it cool to room temperature.', 'Peel and devein the amaebi, leaving the tail intact.', 'Prepare a mixture of rice vinegar, sugar, and salt to season the sushi rice.', 'Place a sheet of nori on a bamboo sushi mat, wet your hands, and spread a thin layer of sushi rice on the nori.', 'Place a slice of amaebi on top of the rice and roll the sushi tightly using the bamboo mat.', 'Cut the sushi roll into bite-sized pieces.', 'Serve the amaebi sushi with soy sauce, wasabi, and pickled ginger on the side.', 'Optional: sprinkle sesame seeds on top or add slices of avocado for extra flavor.']\n"
     ]
    }
   ],
   "source": [
    "import re\n",
    "\n",
    "text = response.choices[0].message.content\n",
    "pattern = re.compile(r'\\d+\\. (.+)')\n",
    "matches = pattern.findall(text)\n",
    "\n",
    "shopping_list = []\n",
    "\n",
    "for match in matches:\n",
    "    shopping_list.append(match)\n",
    "    \n",
    "print(shopping_list)"
   ]
  },
  {
   "cell_type": "code",
   "execution_count": 7,
   "metadata": {},
   "outputs": [
    {
     "name": "stdout",
     "output_type": "stream",
     "text": [
      "https://oaidalleapiprodscus.blob.core.windows.net/private/org-vKgpXsH9oLuBJRfzRJiIXO2J/user-auVE0jcTQn3vdT32TxK2ujLt/img-HxdC1vF8XkXai7pmGovWqkq7.png?st=2024-07-27T16%3A35%3A12Z&se=2024-07-27T18%3A35%3A12Z&sp=r&sv=2023-11-03&sr=b&rscd=inline&rsct=image/png&skoid=6aaadede-4fb3-4698-a8f6-684d7786b067&sktid=a48cca56-e6da-484e-a814-9c849652bcb3&skt=2024-07-26T23%3A39%3A40Z&ske=2024-07-27T23%3A39%3A40Z&sks=b&skv=2023-11-03&sig=enuzRYC0fi/UgQcvJjXhe0ZBnQISpDNaQdy8sOdD9W0%3D\n"
     ]
    }
   ],
   "source": [
    "# Generating images using DALL-E\n",
    "\n",
    "\n",
    "full_prompt = \", \".join(shopping_list)\n",
    "\n",
    "\n",
    "image_response = client.images.generate(\n",
    "    model=\"dall-e-3\",\n",
    "    prompt=full_prompt,\n",
    "    size=\"1024x1024\",\n",
    "    quality=\"standard\",\n",
    "    n=1,   \n",
    ")\n",
    "\n",
    "\n",
    "\n",
    "image_url = image_response.data[0].url\n",
    "print(image_url)\n"
   ]
  },
  {
   "cell_type": "code",
   "execution_count": null,
   "metadata": {},
   "outputs": [],
   "source": []
  }
 ],
 "metadata": {
  "kernelspec": {
   "display_name": "Python 3",
   "language": "python",
   "name": "python3"
  },
  "language_info": {
   "codemirror_mode": {
    "name": "ipython",
    "version": 3
   },
   "file_extension": ".py",
   "mimetype": "text/x-python",
   "name": "python",
   "nbconvert_exporter": "python",
   "pygments_lexer": "ipython3",
   "version": "3.10.13"
  }
 },
 "nbformat": 4,
 "nbformat_minor": 2
}
