{
 "cells": [
  {
   "cell_type": "code",
   "execution_count": 1,
   "metadata": {},
   "outputs": [
    {
     "name": "stdout",
     "output_type": "stream",
     "text": [
      "hi\n"
     ]
    }
   ],
   "source": [
    "import openai\n",
    "import os\n",
    "\n",
    "os.environ[\"OPENAI_API_KEY\"] = \"sk-proj-Fs2QEYX4U4G8rBTTeujhT3BlbkFJFFlX5o0egM0DWVVLKPSV\"\n",
    "openai.api_key = os.getenv(\"OPENAI_API_KEY\")\n",
    "\n",
    "print(\"hi\")"
   ]
  },
  {
   "cell_type": "code",
   "execution_count": 2,
   "metadata": {},
   "outputs": [],
   "source": [
    "from openai import OpenAI\n",
    "client = OpenAI()"
   ]
  },
  {
   "cell_type": "code",
   "execution_count": 3,
   "metadata": {},
   "outputs": [],
   "source": [
    "def create_shopping_list(recipe):\n",
    "    prompt = f\"create a shopping list based on the following recipe and foods that go well with it and cooking instructions: {recipe}\"\n",
    "    \n",
    "    return prompt"
   ]
  },
  {
   "cell_type": "code",
   "execution_count": 4,
   "metadata": {},
   "outputs": [
    {
     "name": "stdout",
     "output_type": "stream",
     "text": [
      "create a shopping list based on the following recipe and foods that go well with it and cooking instructions: Bluefin tuna sushi\n"
     ]
    }
   ],
   "source": [
    "# recipe test\n",
    "recipe = create_shopping_list(\"Bluefin tuna sushi\")\n",
    "print(recipe)"
   ]
  },
  {
   "cell_type": "code",
   "execution_count": 5,
   "metadata": {},
   "outputs": [
    {
     "name": "stdout",
     "output_type": "stream",
     "text": [
      "Shopping List:\n",
      "1. Bluefin tuna (sushi-grade)\n",
      "2. Sushi rice\n",
      "3. Rice vinegar\n",
      "4. Sugar\n",
      "5. Salt\n",
      "6. Nori (seaweed sheets)\n",
      "7. Soy sauce\n",
      "8. Wasabi\n",
      "9. Pickled ginger\n",
      "\n",
      "Additional ingredients that go well with Bluefin tuna sushi:\n",
      "1. Avocado\n",
      "2. Cucumber\n",
      "3. Sesame seeds\n",
      "4. Scallions\n",
      "5. Tobiko (flying fish roe)\n",
      "6. Sriracha sauce\n",
      "7. Ponzu sauce\n",
      "8. Yuzu juice\n",
      "\n",
      "Instructions:\n",
      "1. Cook sushi rice according to package instructions and let it cool slightly.\n",
      "2. In a small bowl, mix rice vinegar, sugar, and salt. Fold this mixture into the cooked sushi rice to make sushi rice.\n",
      "3. Slice the Bluefin tuna into thin slices.\n",
      "4. Lay a sheet of nori on a bamboo sushi mat.\n",
      "5. Wet your hands with water and grab a handful of sushi rice, spreading it evenly over the nori sheet.\n",
      "6. Place the sliced Bluefin tuna on top of the rice, along with any additional ingredients you desire.\n",
      "7. Roll the sushi tightly using the bamboo mat, then slice into bite-sized pieces.\n",
      "8. Serve the Bluefin tuna sushi with soy sauce, wasabi, and pickled ginger on the side. Enjoy!\n"
     ]
    }
   ],
   "source": [
    "# Reaching out to openai for the answer\n",
    "\n",
    "response = client.chat.completions.create(\n",
    "    model = \"gpt-3.5-turbo\",\n",
    "    messages = [\n",
    "                {\n",
    "                    \"role\":\"system\",\n",
    "                    \"content\":recipe,\n",
    "                    \n",
    "                },],\n",
    "    temperature = 0.7,\n",
    "    top_p = 1,\n",
    ")\n",
    "print(response.choices[0].message.content)"
   ]
  },
  {
   "cell_type": "code",
   "execution_count": 6,
   "metadata": {},
   "outputs": [
    {
     "name": "stdout",
     "output_type": "stream",
     "text": [
      "['Bluefin tuna (sushi-grade)', 'Sushi rice', 'Rice vinegar', 'Sugar', 'Salt', 'Nori (seaweed sheets)', 'Soy sauce', 'Wasabi', 'Pickled ginger', 'Avocado', 'Cucumber', 'Sesame seeds', 'Scallions', 'Tobiko (flying fish roe)', 'Sriracha sauce', 'Ponzu sauce', 'Yuzu juice', 'Cook sushi rice according to package instructions and let it cool slightly.', 'In a small bowl, mix rice vinegar, sugar, and salt. Fold this mixture into the cooked sushi rice to make sushi rice.', 'Slice the Bluefin tuna into thin slices.', 'Lay a sheet of nori on a bamboo sushi mat.', 'Wet your hands with water and grab a handful of sushi rice, spreading it evenly over the nori sheet.', 'Place the sliced Bluefin tuna on top of the rice, along with any additional ingredients you desire.', 'Roll the sushi tightly using the bamboo mat, then slice into bite-sized pieces.', 'Serve the Bluefin tuna sushi with soy sauce, wasabi, and pickled ginger on the side. Enjoy!']\n"
     ]
    }
   ],
   "source": [
    "import re\n",
    "\n",
    "text = response.choices[0].message.content\n",
    "pattern = re.compile(r'\\d+\\. (.+)')\n",
    "matches = pattern.findall(text)\n",
    "\n",
    "shopping_list = []\n",
    "\n",
    "for match in matches:\n",
    "    shopping_list.append(match)\n",
    "    \n",
    "print(shopping_list)"
   ]
  },
  {
   "cell_type": "code",
   "execution_count": 7,
   "metadata": {},
   "outputs": [
    {
     "name": "stdout",
     "output_type": "stream",
     "text": [
      "https://oaidalleapiprodscus.blob.core.windows.net/private/org-vKgpXsH9oLuBJRfzRJiIXO2J/user-auVE0jcTQn3vdT32TxK2ujLt/img-g07RCztMuFGnlcFXSCYjSwo9.png?st=2024-07-16T21%3A02%3A19Z&se=2024-07-16T23%3A02%3A19Z&sp=r&sv=2023-11-03&sr=b&rscd=inline&rsct=image/png&skoid=6aaadede-4fb3-4698-a8f6-684d7786b067&sktid=a48cca56-e6da-484e-a814-9c849652bcb3&skt=2024-07-16T21%3A46%3A30Z&ske=2024-07-17T21%3A46%3A30Z&sks=b&skv=2023-11-03&sig=/X6AXe2N952%2BeHrNYv81R9U9wharHKGSCxTxQDibNt4%3D\n"
     ]
    }
   ],
   "source": [
    "# Generating images using DALL-E\n",
    "\n",
    "\n",
    "full_prompt = \", \".join(shopping_list)\n",
    "\n",
    "\n",
    "image_response = client.images.generate(\n",
    "    model=\"dall-e-3\",\n",
    "    prompt=full_prompt,\n",
    "    size=\"1024x1024\",\n",
    "    quality=\"standard\",\n",
    "    n=1,   \n",
    ")\n",
    "\n",
    "\n",
    "\n",
    "image_url = image_response.data[0].url\n",
    "print(image_url)\n"
   ]
  },
  {
   "cell_type": "code",
   "execution_count": null,
   "metadata": {},
   "outputs": [],
   "source": []
  }
 ],
 "metadata": {
  "kernelspec": {
   "display_name": "Python 3",
   "language": "python",
   "name": "python3"
  },
  "language_info": {
   "codemirror_mode": {
    "name": "ipython",
    "version": 3
   },
   "file_extension": ".py",
   "mimetype": "text/x-python",
   "name": "python",
   "nbconvert_exporter": "python",
   "pygments_lexer": "ipython3",
   "version": "3.12.4"
  }
 },
 "nbformat": 4,
 "nbformat_minor": 2
}
