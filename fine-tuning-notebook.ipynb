{
 "cells": [
  {
   "cell_type": "code",
   "execution_count": 2,
   "metadata": {},
   "outputs": [],
   "source": [
    "import os\n",
    "import json\n",
    "import pandas as pd\n"
   ]
  },
  {
   "cell_type": "code",
   "execution_count": 3,
   "metadata": {},
   "outputs": [
    {
     "data": {
      "text/html": [
       "<div>\n",
       "<style scoped>\n",
       "    .dataframe tbody tr th:only-of-type {\n",
       "        vertical-align: middle;\n",
       "    }\n",
       "\n",
       "    .dataframe tbody tr th {\n",
       "        vertical-align: top;\n",
       "    }\n",
       "\n",
       "    .dataframe thead th {\n",
       "        text-align: right;\n",
       "    }\n",
       "</style>\n",
       "<table border=\"1\" class=\"dataframe\">\n",
       "  <thead>\n",
       "    <tr style=\"text-align: right;\">\n",
       "      <th></th>\n",
       "      <th>Unnamed: 0</th>\n",
       "      <th>q_id</th>\n",
       "      <th>text</th>\n",
       "      <th>votes</th>\n",
       "    </tr>\n",
       "  </thead>\n",
       "  <tbody>\n",
       "    <tr>\n",
       "      <th>0</th>\n",
       "      <td>0</td>\n",
       "      <td>hvbvpz</td>\n",
       "      <td>Two pet ducks. You may be tempted to go for on...</td>\n",
       "      <td>2359.0</td>\n",
       "    </tr>\n",
       "    <tr>\n",
       "      <th>1</th>\n",
       "      <td>1</td>\n",
       "      <td>hvbvpz</td>\n",
       "      <td>Nice try Jeff Bezos</td>\n",
       "      <td>764.0</td>\n",
       "    </tr>\n",
       "    <tr>\n",
       "      <th>2</th>\n",
       "      <td>2</td>\n",
       "      <td>hvbvpz</td>\n",
       "      <td>A curved shower rod. Seriously. $10 for a tens...</td>\n",
       "      <td>1525.0</td>\n",
       "    </tr>\n",
       "  </tbody>\n",
       "</table>\n",
       "</div>"
      ],
      "text/plain": [
       "   Unnamed: 0    q_id                                               text  \\\n",
       "0           0  hvbvpz  Two pet ducks. You may be tempted to go for on...   \n",
       "1           1  hvbvpz                                Nice try Jeff Bezos   \n",
       "2           2  hvbvpz  A curved shower rod. Seriously. $10 for a tens...   \n",
       "\n",
       "    votes  \n",
       "0  2359.0  \n",
       "1   764.0  \n",
       "2  1525.0  "
      ]
     },
     "execution_count": 3,
     "metadata": {},
     "output_type": "execute_result"
    }
   ],
   "source": [
    "# Reading in the answers\n",
    "\n",
    "df_answers = pd.read_csv('reddit_answers_big.csv', sep=';')\n",
    "df_answers.head(3)"
   ]
  },
  {
   "cell_type": "code",
   "execution_count": 5,
   "metadata": {},
   "outputs": [
    {
     "data": {
      "text/html": [
       "<div>\n",
       "<style scoped>\n",
       "    .dataframe tbody tr th:only-of-type {\n",
       "        vertical-align: middle;\n",
       "    }\n",
       "\n",
       "    .dataframe tbody tr th {\n",
       "        vertical-align: top;\n",
       "    }\n",
       "\n",
       "    .dataframe thead th {\n",
       "        text-align: right;\n",
       "    }\n",
       "</style>\n",
       "<table border=\"1\" class=\"dataframe\">\n",
       "  <thead>\n",
       "    <tr style=\"text-align: right;\">\n",
       "      <th></th>\n",
       "      <th>Unnamed: 0</th>\n",
       "      <th>id</th>\n",
       "      <th>answer</th>\n",
       "      <th>answer_votes</th>\n",
       "    </tr>\n",
       "  </thead>\n",
       "  <tbody>\n",
       "    <tr>\n",
       "      <th>1817014</th>\n",
       "      <td>1875645</td>\n",
       "      <td>1001ag</td>\n",
       "      <td>Tell him to go to a hospital. I can't stress t...</td>\n",
       "      <td>30.0</td>\n",
       "    </tr>\n",
       "    <tr>\n",
       "      <th>1591462</th>\n",
       "      <td>1643710</td>\n",
       "      <td>10029x</td>\n",
       "      <td>NOTE: Detail may not sum to totals because of ...</td>\n",
       "      <td>3.0</td>\n",
       "    </tr>\n",
       "    <tr>\n",
       "      <th>96052</th>\n",
       "      <td>99426</td>\n",
       "      <td>1004g5</td>\n",
       "      <td>Blow Me Away by Breaking Benjamin  http://www....</td>\n",
       "      <td>7.0</td>\n",
       "    </tr>\n",
       "  </tbody>\n",
       "</table>\n",
       "</div>"
      ],
      "text/plain": [
       "         Unnamed: 0      id  \\\n",
       "1817014     1875645  1001ag   \n",
       "1591462     1643710  10029x   \n",
       "96052         99426  1004g5   \n",
       "\n",
       "                                                    answer  answer_votes  \n",
       "1817014  Tell him to go to a hospital. I can't stress t...          30.0  \n",
       "1591462  NOTE: Detail may not sum to totals because of ...           3.0  \n",
       "96052    Blow Me Away by Breaking Benjamin  http://www....           7.0  "
      ]
     },
     "execution_count": 5,
     "metadata": {},
     "output_type": "execute_result"
    }
   ],
   "source": [
    "# Grabbing top answers\n",
    "df_top_votes = df_answers.groupby('q_id')['votes'].idxmax()\n",
    "df_top_answers = df_answers.loc[df_top_votes]\n",
    "\n",
    "df_top_answers.rename(columns={'text': 'answer'}, inplace=True)\n",
    "df_top_answers.rename(columns={'q_id': 'id'}, inplace=True)\n",
    "df_top_answers.rename(columns={'votes': 'answer_votes'}, inplace=True)\n",
    "\n",
    "df_top_answers.head(3)"
   ]
  },
  {
   "cell_type": "code",
   "execution_count": 6,
   "metadata": {},
   "outputs": [
    {
     "data": {
      "text/html": [
       "<div>\n",
       "<style scoped>\n",
       "    .dataframe tbody tr th:only-of-type {\n",
       "        vertical-align: middle;\n",
       "    }\n",
       "\n",
       "    .dataframe tbody tr th {\n",
       "        vertical-align: top;\n",
       "    }\n",
       "\n",
       "    .dataframe thead th {\n",
       "        text-align: right;\n",
       "    }\n",
       "</style>\n",
       "<table border=\"1\" class=\"dataframe\">\n",
       "  <thead>\n",
       "    <tr style=\"text-align: right;\">\n",
       "      <th></th>\n",
       "      <th>id</th>\n",
       "      <th>question</th>\n",
       "      <th>question_votes</th>\n",
       "      <th>timestamp</th>\n",
       "      <th>datetime</th>\n",
       "    </tr>\n",
       "  </thead>\n",
       "  <tbody>\n",
       "    <tr>\n",
       "      <th>0</th>\n",
       "      <td>izucgz</td>\n",
       "      <td>What's the purpose of life?</td>\n",
       "      <td>8</td>\n",
       "      <td>1.601076e+09</td>\n",
       "      <td>Fri Sep 25 23:13:31 2020 UTC</td>\n",
       "    </tr>\n",
       "    <tr>\n",
       "      <th>1</th>\n",
       "      <td>9c784/</td>\n",
       "      <td>I've tried to quit smoking, this is my seventh...</td>\n",
       "      <td>11</td>\n",
       "      <td>1.250712e+09</td>\n",
       "      <td>Wed Aug 19 19:58:54 2009 UTC</td>\n",
       "    </tr>\n",
       "    <tr>\n",
       "      <th>2</th>\n",
       "      <td>iylxwl</td>\n",
       "      <td>For those who have a slave master last name, w...</td>\n",
       "      <td>0</td>\n",
       "      <td>1.600904e+09</td>\n",
       "      <td>Wed Sep 23 23:35:15 2020 UTC</td>\n",
       "    </tr>\n",
       "  </tbody>\n",
       "</table>\n",
       "</div>"
      ],
      "text/plain": [
       "       id                                           question  question_votes  \\\n",
       "0  izucgz                        What's the purpose of life?               8   \n",
       "1  9c784/  I've tried to quit smoking, this is my seventh...              11   \n",
       "2  iylxwl  For those who have a slave master last name, w...               0   \n",
       "\n",
       "      timestamp                      datetime  \n",
       "0  1.601076e+09  Fri Sep 25 23:13:31 2020 UTC  \n",
       "1  1.250712e+09  Wed Aug 19 19:58:54 2009 UTC  \n",
       "2  1.600904e+09  Wed Sep 23 23:35:15 2020 UTC  "
      ]
     },
     "execution_count": 6,
     "metadata": {},
     "output_type": "execute_result"
    }
   ],
   "source": [
    "# Reading in the questions\n",
    "df_questions = pd.read_csv('reddit_questions.csv', sep=';')\n",
    "df_questions.head(3)\n",
    "\n",
    "# Renaming some columns\n",
    "df_questions.rename(columns={'text': 'question'}, inplace=True)\n",
    "df_questions.rename(columns={'votes': 'question_votes'}, inplace=True)\n",
    "\n",
    "df_questions.head(3)"
   ]
  },
  {
   "cell_type": "code",
   "execution_count": 8,
   "metadata": {},
   "outputs": [
    {
     "data": {
      "text/html": [
       "<div>\n",
       "<style scoped>\n",
       "    .dataframe tbody tr th:only-of-type {\n",
       "        vertical-align: middle;\n",
       "    }\n",
       "\n",
       "    .dataframe tbody tr th {\n",
       "        vertical-align: top;\n",
       "    }\n",
       "\n",
       "    .dataframe thead th {\n",
       "        text-align: right;\n",
       "    }\n",
       "</style>\n",
       "<table border=\"1\" class=\"dataframe\">\n",
       "  <thead>\n",
       "    <tr style=\"text-align: right;\">\n",
       "      <th></th>\n",
       "      <th>id</th>\n",
       "      <th>question</th>\n",
       "      <th>question_votes</th>\n",
       "      <th>timestamp</th>\n",
       "      <th>datetime</th>\n",
       "      <th>Unnamed: 0</th>\n",
       "      <th>answer</th>\n",
       "      <th>answer_votes</th>\n",
       "    </tr>\n",
       "  </thead>\n",
       "  <tbody>\n",
       "    <tr>\n",
       "      <th>0</th>\n",
       "      <td>izucgz</td>\n",
       "      <td>What's the purpose of life?</td>\n",
       "      <td>8</td>\n",
       "      <td>1.601076e+09</td>\n",
       "      <td>Fri Sep 25 23:13:31 2020 UTC</td>\n",
       "      <td>1254710</td>\n",
       "      <td>Breed and die.</td>\n",
       "      <td>5.0</td>\n",
       "    </tr>\n",
       "    <tr>\n",
       "      <th>1</th>\n",
       "      <td>9c784/</td>\n",
       "      <td>I've tried to quit smoking, this is my seventh...</td>\n",
       "      <td>11</td>\n",
       "      <td>1.250712e+09</td>\n",
       "      <td>Wed Aug 19 19:58:54 2009 UTC</td>\n",
       "      <td>4217572</td>\n",
       "      <td>The secret to quitting smoking is to tell your...</td>\n",
       "      <td>4.0</td>\n",
       "    </tr>\n",
       "    <tr>\n",
       "      <th>2</th>\n",
       "      <td>iylxwl</td>\n",
       "      <td>For those who have a slave master last name, w...</td>\n",
       "      <td>0</td>\n",
       "      <td>1.600904e+09</td>\n",
       "      <td>Wed Sep 23 23:35:15 2020 UTC</td>\n",
       "      <td>5464942</td>\n",
       "      <td>No. My last name sounds badass.</td>\n",
       "      <td>4.0</td>\n",
       "    </tr>\n",
       "  </tbody>\n",
       "</table>\n",
       "</div>"
      ],
      "text/plain": [
       "       id                                           question  question_votes  \\\n",
       "0  izucgz                        What's the purpose of life?               8   \n",
       "1  9c784/  I've tried to quit smoking, this is my seventh...              11   \n",
       "2  iylxwl  For those who have a slave master last name, w...               0   \n",
       "\n",
       "      timestamp                      datetime  Unnamed: 0  \\\n",
       "0  1.601076e+09  Fri Sep 25 23:13:31 2020 UTC     1254710   \n",
       "1  1.250712e+09  Wed Aug 19 19:58:54 2009 UTC     4217572   \n",
       "2  1.600904e+09  Wed Sep 23 23:35:15 2020 UTC     5464942   \n",
       "\n",
       "                                              answer  answer_votes  \n",
       "0                                     Breed and die.           5.0  \n",
       "1  The secret to quitting smoking is to tell your...           4.0  \n",
       "2                    No. My last name sounds badass.           4.0  "
      ]
     },
     "execution_count": 8,
     "metadata": {},
     "output_type": "execute_result"
    }
   ],
   "source": [
    "# Joining questions and answers on id\n",
    "merged_df = df_questions.merge(df_top_answers, on='id')\n",
    "merged_df.head(3)"
   ]
  },
  {
   "cell_type": "code",
   "execution_count": 9,
   "metadata": {},
   "outputs": [
    {
     "data": {
      "text/html": [
       "<div>\n",
       "<style scoped>\n",
       "    .dataframe tbody tr th:only-of-type {\n",
       "        vertical-align: middle;\n",
       "    }\n",
       "\n",
       "    .dataframe tbody tr th {\n",
       "        vertical-align: top;\n",
       "    }\n",
       "\n",
       "    .dataframe thead th {\n",
       "        text-align: right;\n",
       "    }\n",
       "</style>\n",
       "<table border=\"1\" class=\"dataframe\">\n",
       "  <thead>\n",
       "    <tr style=\"text-align: right;\">\n",
       "      <th></th>\n",
       "      <th>id</th>\n",
       "      <th>question</th>\n",
       "      <th>answer</th>\n",
       "      <th>question_votes</th>\n",
       "      <th>answer_votes</th>\n",
       "    </tr>\n",
       "  </thead>\n",
       "  <tbody>\n",
       "    <tr>\n",
       "      <th>0</th>\n",
       "      <td>izucgz</td>\n",
       "      <td>What's the purpose of life?</td>\n",
       "      <td>Breed and die.</td>\n",
       "      <td>8</td>\n",
       "      <td>5.0</td>\n",
       "    </tr>\n",
       "    <tr>\n",
       "      <th>1</th>\n",
       "      <td>9c784/</td>\n",
       "      <td>I've tried to quit smoking, this is my seventh...</td>\n",
       "      <td>The secret to quitting smoking is to tell your...</td>\n",
       "      <td>11</td>\n",
       "      <td>4.0</td>\n",
       "    </tr>\n",
       "    <tr>\n",
       "      <th>2</th>\n",
       "      <td>iylxwl</td>\n",
       "      <td>For those who have a slave master last name, w...</td>\n",
       "      <td>No. My last name sounds badass.</td>\n",
       "      <td>0</td>\n",
       "      <td>4.0</td>\n",
       "    </tr>\n",
       "  </tbody>\n",
       "</table>\n",
       "</div>"
      ],
      "text/plain": [
       "       id                                           question  \\\n",
       "0  izucgz                        What's the purpose of life?   \n",
       "1  9c784/  I've tried to quit smoking, this is my seventh...   \n",
       "2  iylxwl  For those who have a slave master last name, w...   \n",
       "\n",
       "                                              answer  question_votes  \\\n",
       "0                                     Breed and die.               8   \n",
       "1  The secret to quitting smoking is to tell your...              11   \n",
       "2                    No. My last name sounds badass.               0   \n",
       "\n",
       "   answer_votes  \n",
       "0           5.0  \n",
       "1           4.0  \n",
       "2           4.0  "
      ]
     },
     "execution_count": 9,
     "metadata": {},
     "output_type": "execute_result"
    }
   ],
   "source": [
    "# Clean this data up a bit\n",
    "merged_df.drop(columns=['timestamp', 'datetime','Unnamed: 0'], axis=1, inplace=True)\n",
    "merged_df = merged_df.reindex(columns=['id', 'question', 'answer', 'question_votes', 'answer_votes'])\n",
    "merged_df.head(3)"
   ]
  },
  {
   "cell_type": "code",
   "execution_count": 10,
   "metadata": {},
   "outputs": [
    {
     "name": "stdout",
     "output_type": "stream",
     "text": [
      "<class 'pandas.core.frame.DataFrame'>\n",
      "RangeIndex: 181311 entries, 0 to 181310\n",
      "Data columns (total 5 columns):\n",
      " #   Column          Non-Null Count   Dtype  \n",
      "---  ------          --------------   -----  \n",
      " 0   id              181311 non-null  object \n",
      " 1   question        181311 non-null  object \n",
      " 2   answer          181296 non-null  object \n",
      " 3   question_votes  181311 non-null  int64  \n",
      " 4   answer_votes    181311 non-null  float64\n",
      "dtypes: float64(1), int64(1), object(3)\n",
      "memory usage: 6.9+ MB\n"
     ]
    }
   ],
   "source": [
    "merged_df.info()"
   ]
  },
  {
   "cell_type": "code",
   "execution_count": 11,
   "metadata": {},
   "outputs": [],
   "source": [
    "merged_df = merged_df.sort_values(by='answer_votes', ascending=False)\n",
    "merged_df_1k = merged_df[:1000]"
   ]
  },
  {
   "cell_type": "code",
   "execution_count": 12,
   "metadata": {},
   "outputs": [],
   "source": [
    "questions, answers = merged_df_1k['question'], merged_df_1k['answer']"
   ]
  },
  {
   "cell_type": "code",
   "execution_count": 15,
   "metadata": {},
   "outputs": [
    {
     "data": {
      "text/plain": [
       "[{'messages': [{'role': 'system',\n",
       "    'content': 'Marv is a factual chatbot and reddit expert who likes to answer with bullets.'},\n",
       "   {'role': 'user', 'content': 'What is something that has aged well?'},\n",
       "   {'role': 'assistant', 'content': 'The word cool'}]},\n",
       " {'messages': [{'role': 'system',\n",
       "    'content': 'Marv is a factual chatbot and reddit expert who likes to answer with bullets.'},\n",
       "   {'role': 'user',\n",
       "    'content': \"What's the most amazing thing about the universe?\"},\n",
       "   {'role': 'assistant',\n",
       "    'content': \"It must be true that either  It didn't exist, then it did  or  It has always existed\"}]}]"
      ]
     },
     "execution_count": 15,
     "metadata": {},
     "output_type": "execute_result"
    }
   ],
   "source": [
    "# Format the training data\n",
    "qa_openai_format = [{'messages': [{'role': 'system', 'content': 'Marv is a factual chatbot and reddit expert who likes to answer with bullets.'}, \n",
    "                                  {'role': 'user', 'content': q},\n",
    "                                  {'role': 'assistant', 'content': a}]} for q, a in zip(questions, answers)]\n",
    "\n",
    "qa_openai_format[:2]"
   ]
  },
  {
   "cell_type": "code",
   "execution_count": 16,
   "metadata": {},
   "outputs": [],
   "source": [
    "# Write the training data to a JSONL file\n",
    "with open('training_data.jsonl', 'w') as f:\n",
    "    for entry in qa_openai_format:\n",
    "        f.write(json.dumps(entry))\n",
    "        f.write('\\n')\n",
    "                "
   ]
  },
  {
   "cell_type": "code",
   "execution_count": 17,
   "metadata": {},
   "outputs": [
    {
     "name": "stdout",
     "output_type": "stream",
     "text": [
      "Number of examples: 1000\n",
      "No errors found\n"
     ]
    }
   ],
   "source": [
    "# Search for errors\n",
    "from collections import defaultdict\n",
    "\n",
    "data_path = \"training_data.jsonl\"\n",
    "\n",
    "with open(data_path, 'r', encoding='utf-8') as f:\n",
    "    dataset = [json.loads(line) for line in f]\n",
    "\n",
    "print(f\"Number of examples: {len(dataset)}\")\n",
    "\n",
    "\n",
    "\n",
    "# Format error checks\n",
    "format_errors = defaultdict(int)\n",
    "\n",
    "for ex in dataset:\n",
    "    if not isinstance(ex, dict):\n",
    "        format_errors[\"data_type\"] += 1\n",
    "        continue\n",
    "        \n",
    "    messages = ex.get(\"messages\", None)\n",
    "    if not messages:\n",
    "        format_errors[\"missing_messages_list\"] += 1\n",
    "        continue\n",
    "        \n",
    "    for message in messages:\n",
    "        if \"role\" not in message or \"content\" not in message:\n",
    "            format_errors[\"message_missing_key\"] += 1\n",
    "        \n",
    "        if any(k not in (\"role\", \"content\", \"name\", \"function_call\", \"weight\") for k in message):\n",
    "            format_errors[\"message_unrecognized_key\"] += 1\n",
    "        \n",
    "        if message.get(\"role\", None) not in (\"system\", \"user\", \"assistant\", \"function\"):\n",
    "            format_errors[\"unrecognized_role\"] += 1\n",
    "            \n",
    "        content = message.get(\"content\", None)\n",
    "        function_call = message.get(\"function_call\", None)\n",
    "        \n",
    "        if (not content and not function_call) or not isinstance(content, str):\n",
    "            format_errors[\"missing_content\"] += 1\n",
    "    \n",
    "    if not any(message.get(\"role\", None) == \"assistant\" for message in messages):\n",
    "        format_errors[\"example_missing_assistant_message\"] += 1\n",
    "\n",
    "if format_errors:\n",
    "    print(\"Found errors:\")\n",
    "    for k, v in format_errors.items():\n",
    "        print(f\"{k}: {v}\")\n",
    "else:\n",
    "    print(\"No errors found\")"
   ]
  },
  {
   "cell_type": "code",
   "execution_count": 3,
   "metadata": {},
   "outputs": [],
   "source": [
    "import openai\n",
    "from openai import OpenAI\n",
    "\n",
    "os.environ[\"OPENAI_API_KEY\"] = \"sk-proj-Fs2QEYX4U4G8rBTTeujhT3BlbkFJFFlX5o0egM0DWVVLKPSV\"\n",
    "openai.api_key = os.getenv(\"OPENAI_API_KEY\")\n",
    "\n",
    "client = OpenAI()"
   ]
  },
  {
   "cell_type": "code",
   "execution_count": 3,
   "metadata": {},
   "outputs": [
    {
     "data": {
      "text/plain": [
       "FileObject(id='file-uOgFIEt02cmfVdZKey0iyKbP', bytes=490462, created_at=1721516352, filename='training_data.jsonl', object='file', purpose='fine-tune', status='processed', status_details=None)"
      ]
     },
     "execution_count": 3,
     "metadata": {},
     "output_type": "execute_result"
    }
   ],
   "source": [
    "# Time to finally start fine tuning (sending the data to OpenAI)\n",
    "client.files.create(\n",
    "    file=open('training_data.jsonl', 'rb'),\n",
    "    purpose='fine-tune',\n",
    ")"
   ]
  },
  {
   "cell_type": "code",
   "execution_count": 20,
   "metadata": {},
   "outputs": [
    {
     "data": {
      "text/plain": [
       "FineTuningJob(id='ftjob-kIbBxAVKH9ojBZAqU9ohDIWx', created_at=1721493556, error=Error(code=None, message=None, param=None), fine_tuned_model=None, finished_at=None, hyperparameters=Hyperparameters(n_epochs='auto', batch_size='auto', learning_rate_multiplier='auto'), model='gpt-3.5-turbo-0125', object='fine_tuning.job', organization_id='org-vKgpXsH9oLuBJRfzRJiIXO2J', result_files=[], seed=323145236, status='validating_files', trained_tokens=None, training_file='file-SHfScQwnFnIjzwLqzXwFmVri', validation_file=None, estimated_finish=None, integrations=[], user_provided_suffix=None)"
      ]
     },
     "execution_count": 20,
     "metadata": {},
     "output_type": "execute_result"
    }
   ],
   "source": [
    "client.fine_tuning.jobs.create(\n",
    "    training_file='file-SHfScQwnFnIjzwLqzXwFmVri',\n",
    "    model='gpt-3.5-turbo'\n",
    "    )"
   ]
  },
  {
   "cell_type": "code",
   "execution_count": 17,
   "metadata": {},
   "outputs": [
    {
     "name": "stdout",
     "output_type": "stream",
     "text": [
      "succeeded\n"
     ]
    }
   ],
   "source": [
    "job_id = 'ftjob-kIbBxAVKH9ojBZAqU9ohDIWx'  # Replace with your actual job ID\n",
    "job_details = client.fine_tuning.jobs.retrieve(job_id)\n",
    "print(job_details.status)"
   ]
  },
  {
   "cell_type": "code",
   "execution_count": 16,
   "metadata": {},
   "outputs": [],
   "source": [
    "system_prompt = \"Marv is a factual chatbot and reddit expert who likes to answer with bullets\"\n",
    "user_question = \"best food you've ever had?\""
   ]
  },
  {
   "cell_type": "code",
   "execution_count": 17,
   "metadata": {},
   "outputs": [
    {
     "name": "stdout",
     "output_type": "stream",
     "text": [
      "/*order 12 donuts from the Amish because why not? Try one, pretty freaking good. But everyone who says Amish donuts are the best donuts are whack because nothing beats Big-Butts from the heart of NC. What in the world? Why are they so soft and sweet? Try another just to be sure. Then try another to double check. Then not stopping until there all gone including giving 2 of my family members the middle finger when asked if looks like itll be a while before the next opportunity for a trip to the Amish. Im sorry. I have sinned. Yours truly, me. Holy crap they are freaking good. Only problem now is working it out with the Amish that they have 2 shipments leaving daily going south on I-77 and can meet me at the Gilead road exit. So yeah, Amish donuts. No going back now. Holy Crap amazing. /*\n"
     ]
    }
   ],
   "source": [
    "response = client.chat.completions.create(\n",
    "    model=\"ft:gpt-3.5-turbo-0125:personal::9n8PSYHk\",\n",
    "    messages=[\n",
    "        {\n",
    "            \"role\": \"system\",\n",
    "            \"content\": system_prompt\n",
    "        },\n",
    "        {\n",
    "            \"role\": \"user\",\n",
    "            \"content\": user_question\n",
    "        }\n",
    "    ]\n",
    ")\n",
    "\n",
    "print(response.choices[0].message.content)"
   ]
  },
  {
   "cell_type": "code",
   "execution_count": null,
   "metadata": {},
   "outputs": [],
   "source": []
  }
 ],
 "metadata": {
  "kernelspec": {
   "display_name": "Python 3",
   "language": "python",
   "name": "python3"
  },
  "language_info": {
   "codemirror_mode": {
    "name": "ipython",
    "version": 3
   },
   "file_extension": ".py",
   "mimetype": "text/x-python",
   "name": "python",
   "nbconvert_exporter": "python",
   "pygments_lexer": "ipython3",
   "version": "3.10.13"
  }
 },
 "nbformat": 4,
 "nbformat_minor": 2
}
