{
 "cells": [
  {
   "cell_type": "code",
   "execution_count": 2,
   "metadata": {},
   "outputs": [],
   "source": [
    "import json\n",
    "import os\n",
    "import pandas as pd\n",
    "import openai\n",
    "from openai import OpenAI\n"
   ]
  },
  {
   "cell_type": "code",
   "execution_count": 3,
   "metadata": {},
   "outputs": [],
   "source": [
    "# Import openai API key\n",
    "import openai\n",
    "from openai import OpenAI\n",
    "\n",
    "os.environ[\"OPENAI_API_KEY\"] = \"sk-proj-Fs2QEYX4U4G8rBTTeujhT3BlbkFJFFlX5o0egM0DWVVLKPSV\"\n",
    "openai.api_key = os.getenv(\"OPENAI_API_KEY\")\n",
    "\n",
    "client = OpenAI()"
   ]
  },
  {
   "cell_type": "code",
   "execution_count": 8,
   "metadata": {},
   "outputs": [],
   "source": [
    "# Import audio file\n",
    "audio_file =  open('main.mp3', 'rb')"
   ]
  },
  {
   "cell_type": "code",
   "execution_count": 9,
   "metadata": {},
   "outputs": [],
   "source": [
    "transcription = client.audio.transcriptions.create(\n",
    "    model = 'whisper-1',\n",
    "    file = audio_file,\n",
    ")"
   ]
  },
  {
   "cell_type": "code",
   "execution_count": 10,
   "metadata": {},
   "outputs": [
    {
     "name": "stdout",
     "output_type": "stream",
     "text": [
      "You John Fitzgerald Kennedy do solemnly swear, I John Fitzgerald Kennedy do solemnly swear, that you will faithfully execute the office of President of the United States, that I will faithfully execute the office of President of the United States, and will to the best of your ability, and will to the best of my ability, preserve, protect, and defend the Constitution of the United States, preserve, protect, and defend the Constitution of the United States. So help me God. So help me God. Vice President Johnson, Mr. Speaker, Mr. Chief Justice, President Eisenhower, Vice President Nixon, President Truman, Reverend Clergy, fellow citizens. We observe today not a victory of party, but a celebration of freedom, symbolizing an end as well as a beginning, signifying renewal as well as change. For I have sworn before you and Almighty God the same solemn oath our forebears prescribed nearly a century and three quarters ago. The world is very different now, for man holds in his mortal hands the power to abolish all forms of human poverty and all forms of human life. And yet the same revolutionary beliefs for which our forebears fought are still at issue around the globe. The belief that the rights of man come not from the generosity of the state, but from the hand of God. We dare not forget today that we are the heirs of that first revolution. Let the word go forth from this time and place to friend and foe alike that the torch has been passed to a new generation of Americans born in this century tempered by war, disciplined by a hard and bitter peace, proud of our ancient heritage and unwilling to witness or permit the slow undoing of those human rights to which this nation has always been committed and to which we are committed today at home and around the world. Let every nation know, whether it wishes us well or ill, that we shall pay any price, bear any burden, meet any hardship, support any friend, oppose any foe, to assure the survival and the success of liberty. This m\n"
     ]
    }
   ],
   "source": [
    "print(transcription.text[:2000])"
   ]
  },
  {
   "cell_type": "code",
   "execution_count": 11,
   "metadata": {},
   "outputs": [],
   "source": [
    "system_prompt = \"You are a proficient AI with a specialty in distilling information into key points. Based on the following text, identify and list the main points that were discussed or brought up. These should be the most important ideas, findings, or topics that are crucial to the essence of the discussion. Your goal is to provide a list that someone could read to quickly understand what was talked about.\""
   ]
  },
  {
   "cell_type": "code",
   "execution_count": 12,
   "metadata": {},
   "outputs": [],
   "source": [
    "# Send transcription to chatgpt for summary\n",
    "response = client.chat.completions.create(\n",
    "    model=\"gpt-4\",\n",
    "    temperature=0.5,\n",
    "    messages=[\n",
    "        {\n",
    "            \"role\": \"system\",\n",
    "            \"content\": system_prompt\n",
    "        },\n",
    "        {\n",
    "            \"role\": \"user\",\n",
    "            \"content\": transcription.text\n",
    "        }\n",
    "    ]\n",
    ")\n"
   ]
  },
  {
   "cell_type": "code",
   "execution_count": 13,
   "metadata": {},
   "outputs": [
    {
     "name": "stdout",
     "output_type": "stream",
     "text": [
      "1. John F. Kennedy took the oath to faithfully execute the office of President of the United States and to preserve, protect, and defend the Constitution of the United States.\n",
      "2. Kennedy's presidency is seen as a celebration of freedom and a symbol of both an end and a beginning.\n",
      "3. He acknowledged the power humanity now holds to abolish all forms of human poverty and life.\n",
      "4. Kennedy affirmed the belief that human rights come from God, not the state.\n",
      "5. He emphasized America's commitment to human rights, both domestically and internationally.\n",
      "6. Kennedy pledged to pay any price and bear any burden to assure the survival and success of liberty.\n",
      "7. He promised loyalty to old allies, and support to new states against any form of colonial control.\n",
      "8. Kennedy pledged to help those struggling against poverty, not for political gain, but because it is right.\n",
      "9. He offered a special pledge to assist free governments in the Americas to cast off chains of poverty.\n",
      "10. Kennedy reaffirmed support for the United Nations as a mechanism for peace.\n",
      "11. He called for a new beginning in relations with adversarial nations, seeking peace and disarmament.\n",
      "12. Kennedy encouraged exploration of what unites nations, rather than what divides them.\n",
      "13. He urged both sides to seek the wonders of science for positive ends and to alleviate burdens of the oppressed.\n",
      "14. Kennedy acknowledged that the goals he set forth would not be quickly achieved, but insisted on beginning the work.\n",
      "15. He called on American citizens to contribute to the success of their nation and asked them to consider what they can do for their country.\n",
      "16. Kennedy welcomed the responsibility of defending freedom in its hour of maximum danger.\n",
      "17. He concluded by asking all citizens, whether of America or the world, to meet the same high standards of strength and sacrifice expected of them.\n"
     ]
    }
   ],
   "source": [
    "print(response.choices[0].message.content)"
   ]
  }
 ],
 "metadata": {
  "kernelspec": {
   "display_name": "Python 3",
   "language": "python",
   "name": "python3"
  },
  "language_info": {
   "codemirror_mode": {
    "name": "ipython",
    "version": 3
   },
   "file_extension": ".py",
   "mimetype": "text/x-python",
   "name": "python",
   "nbconvert_exporter": "python",
   "pygments_lexer": "ipython3",
   "version": "3.10.13"
  }
 },
 "nbformat": 4,
 "nbformat_minor": 2
}
